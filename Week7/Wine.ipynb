{
  "nbformat": 4,
  "nbformat_minor": 0,
  "metadata": {
    "colab": {
      "name": "Wine",
      "provenance": [],
      "authorship_tag": "ABX9TyPdNwWG6PuNzg88wVrI84jw",
      "include_colab_link": true
    },
    "kernelspec": {
      "name": "python3",
      "display_name": "Python 3"
    },
    "language_info": {
      "name": "python"
    }
  },
  "cells": [
    {
      "cell_type": "markdown",
      "metadata": {
        "id": "view-in-github",
        "colab_type": "text"
      },
      "source": [
        "<a href=\"https://colab.research.google.com/github/Nico-GP/Coding-Dojo_Track2/blob/main/Week7/Wine.ipynb\" target=\"_parent\"><img src=\"https://colab.research.google.com/assets/colab-badge.svg\" alt=\"Open In Colab\"/></a>"
      ]
    },
    {
      "cell_type": "markdown",
      "source": [
        "# **CODING DOJO**: Wine \n",
        "## Creado por: Nicolas Gonzalez\n",
        "### Descripcion: Clasificacion de tipo de uva segun caracteristicas\n",
        "* Creado: 15/02/22\n",
        "* Ultima Actualizacion: 15/02/22"
      ],
      "metadata": {
        "id": "2nBISMniFWOq"
      }
    },
    {
      "cell_type": "code",
      "source": [
        "from google.colab import drive\n",
        "drive.mount('/content/drive')"
      ],
      "metadata": {
        "colab": {
          "base_uri": "https://localhost:8080/"
        },
        "id": "l9GIOqgcFwC9",
        "outputId": "af96bdaa-5caf-44c9-9563-fe014ed5704e"
      },
      "execution_count": 88,
      "outputs": [
        {
          "output_type": "stream",
          "name": "stdout",
          "text": [
            "Drive already mounted at /content/drive; to attempt to forcibly remount, call drive.mount(\"/content/drive\", force_remount=True).\n"
          ]
        }
      ]
    },
    {
      "cell_type": "code",
      "source": [
        "import pandas as pd\n",
        "wn = pd.read_csv('/content/drive/My Drive/CodingDojo/Week7/wine.csv', header = None)\n",
        "wn.head()"
      ],
      "metadata": {
        "colab": {
          "base_uri": "https://localhost:8080/",
          "height": 206
        },
        "id": "iGsXI5kWFxly",
        "outputId": "a3f71810-c3b7-4e58-9105-743a8148bbe7"
      },
      "execution_count": 89,
      "outputs": [
        {
          "output_type": "execute_result",
          "data": {
            "text/html": [
              "\n",
              "  <div id=\"df-09675113-a224-4cbe-8f87-8dffaf83485a\">\n",
              "    <div class=\"colab-df-container\">\n",
              "      <div>\n",
              "<style scoped>\n",
              "    .dataframe tbody tr th:only-of-type {\n",
              "        vertical-align: middle;\n",
              "    }\n",
              "\n",
              "    .dataframe tbody tr th {\n",
              "        vertical-align: top;\n",
              "    }\n",
              "\n",
              "    .dataframe thead th {\n",
              "        text-align: right;\n",
              "    }\n",
              "</style>\n",
              "<table border=\"1\" class=\"dataframe\">\n",
              "  <thead>\n",
              "    <tr style=\"text-align: right;\">\n",
              "      <th></th>\n",
              "      <th>0</th>\n",
              "      <th>1</th>\n",
              "      <th>2</th>\n",
              "      <th>3</th>\n",
              "      <th>4</th>\n",
              "      <th>5</th>\n",
              "      <th>6</th>\n",
              "      <th>7</th>\n",
              "      <th>8</th>\n",
              "      <th>9</th>\n",
              "      <th>10</th>\n",
              "      <th>11</th>\n",
              "      <th>12</th>\n",
              "      <th>13</th>\n",
              "    </tr>\n",
              "  </thead>\n",
              "  <tbody>\n",
              "    <tr>\n",
              "      <th>0</th>\n",
              "      <td>1</td>\n",
              "      <td>14.23</td>\n",
              "      <td>1.71</td>\n",
              "      <td>2.43</td>\n",
              "      <td>15.6</td>\n",
              "      <td>127</td>\n",
              "      <td>2.80</td>\n",
              "      <td>3.06</td>\n",
              "      <td>0.28</td>\n",
              "      <td>2.29</td>\n",
              "      <td>5.64</td>\n",
              "      <td>1.04</td>\n",
              "      <td>3.92</td>\n",
              "      <td>1065</td>\n",
              "    </tr>\n",
              "    <tr>\n",
              "      <th>1</th>\n",
              "      <td>1</td>\n",
              "      <td>13.20</td>\n",
              "      <td>1.78</td>\n",
              "      <td>2.14</td>\n",
              "      <td>11.2</td>\n",
              "      <td>100</td>\n",
              "      <td>2.65</td>\n",
              "      <td>2.76</td>\n",
              "      <td>0.26</td>\n",
              "      <td>1.28</td>\n",
              "      <td>4.38</td>\n",
              "      <td>1.05</td>\n",
              "      <td>3.40</td>\n",
              "      <td>1050</td>\n",
              "    </tr>\n",
              "    <tr>\n",
              "      <th>2</th>\n",
              "      <td>1</td>\n",
              "      <td>13.16</td>\n",
              "      <td>2.36</td>\n",
              "      <td>2.67</td>\n",
              "      <td>18.6</td>\n",
              "      <td>101</td>\n",
              "      <td>2.80</td>\n",
              "      <td>3.24</td>\n",
              "      <td>0.30</td>\n",
              "      <td>2.81</td>\n",
              "      <td>5.68</td>\n",
              "      <td>1.03</td>\n",
              "      <td>3.17</td>\n",
              "      <td>1185</td>\n",
              "    </tr>\n",
              "    <tr>\n",
              "      <th>3</th>\n",
              "      <td>1</td>\n",
              "      <td>14.37</td>\n",
              "      <td>1.95</td>\n",
              "      <td>2.50</td>\n",
              "      <td>16.8</td>\n",
              "      <td>113</td>\n",
              "      <td>3.85</td>\n",
              "      <td>3.49</td>\n",
              "      <td>0.24</td>\n",
              "      <td>2.18</td>\n",
              "      <td>7.80</td>\n",
              "      <td>0.86</td>\n",
              "      <td>3.45</td>\n",
              "      <td>1480</td>\n",
              "    </tr>\n",
              "    <tr>\n",
              "      <th>4</th>\n",
              "      <td>1</td>\n",
              "      <td>13.24</td>\n",
              "      <td>2.59</td>\n",
              "      <td>2.87</td>\n",
              "      <td>21.0</td>\n",
              "      <td>118</td>\n",
              "      <td>2.80</td>\n",
              "      <td>2.69</td>\n",
              "      <td>0.39</td>\n",
              "      <td>1.82</td>\n",
              "      <td>4.32</td>\n",
              "      <td>1.04</td>\n",
              "      <td>2.93</td>\n",
              "      <td>735</td>\n",
              "    </tr>\n",
              "  </tbody>\n",
              "</table>\n",
              "</div>\n",
              "      <button class=\"colab-df-convert\" onclick=\"convertToInteractive('df-09675113-a224-4cbe-8f87-8dffaf83485a')\"\n",
              "              title=\"Convert this dataframe to an interactive table.\"\n",
              "              style=\"display:none;\">\n",
              "        \n",
              "  <svg xmlns=\"http://www.w3.org/2000/svg\" height=\"24px\"viewBox=\"0 0 24 24\"\n",
              "       width=\"24px\">\n",
              "    <path d=\"M0 0h24v24H0V0z\" fill=\"none\"/>\n",
              "    <path d=\"M18.56 5.44l.94 2.06.94-2.06 2.06-.94-2.06-.94-.94-2.06-.94 2.06-2.06.94zm-11 1L8.5 8.5l.94-2.06 2.06-.94-2.06-.94L8.5 2.5l-.94 2.06-2.06.94zm10 10l.94 2.06.94-2.06 2.06-.94-2.06-.94-.94-2.06-.94 2.06-2.06.94z\"/><path d=\"M17.41 7.96l-1.37-1.37c-.4-.4-.92-.59-1.43-.59-.52 0-1.04.2-1.43.59L10.3 9.45l-7.72 7.72c-.78.78-.78 2.05 0 2.83L4 21.41c.39.39.9.59 1.41.59.51 0 1.02-.2 1.41-.59l7.78-7.78 2.81-2.81c.8-.78.8-2.07 0-2.86zM5.41 20L4 18.59l7.72-7.72 1.47 1.35L5.41 20z\"/>\n",
              "  </svg>\n",
              "      </button>\n",
              "      \n",
              "  <style>\n",
              "    .colab-df-container {\n",
              "      display:flex;\n",
              "      flex-wrap:wrap;\n",
              "      gap: 12px;\n",
              "    }\n",
              "\n",
              "    .colab-df-convert {\n",
              "      background-color: #E8F0FE;\n",
              "      border: none;\n",
              "      border-radius: 50%;\n",
              "      cursor: pointer;\n",
              "      display: none;\n",
              "      fill: #1967D2;\n",
              "      height: 32px;\n",
              "      padding: 0 0 0 0;\n",
              "      width: 32px;\n",
              "    }\n",
              "\n",
              "    .colab-df-convert:hover {\n",
              "      background-color: #E2EBFA;\n",
              "      box-shadow: 0px 1px 2px rgba(60, 64, 67, 0.3), 0px 1px 3px 1px rgba(60, 64, 67, 0.15);\n",
              "      fill: #174EA6;\n",
              "    }\n",
              "\n",
              "    [theme=dark] .colab-df-convert {\n",
              "      background-color: #3B4455;\n",
              "      fill: #D2E3FC;\n",
              "    }\n",
              "\n",
              "    [theme=dark] .colab-df-convert:hover {\n",
              "      background-color: #434B5C;\n",
              "      box-shadow: 0px 1px 3px 1px rgba(0, 0, 0, 0.15);\n",
              "      filter: drop-shadow(0px 1px 2px rgba(0, 0, 0, 0.3));\n",
              "      fill: #FFFFFF;\n",
              "    }\n",
              "  </style>\n",
              "\n",
              "      <script>\n",
              "        const buttonEl =\n",
              "          document.querySelector('#df-09675113-a224-4cbe-8f87-8dffaf83485a button.colab-df-convert');\n",
              "        buttonEl.style.display =\n",
              "          google.colab.kernel.accessAllowed ? 'block' : 'none';\n",
              "\n",
              "        async function convertToInteractive(key) {\n",
              "          const element = document.querySelector('#df-09675113-a224-4cbe-8f87-8dffaf83485a');\n",
              "          const dataTable =\n",
              "            await google.colab.kernel.invokeFunction('convertToInteractive',\n",
              "                                                     [key], {});\n",
              "          if (!dataTable) return;\n",
              "\n",
              "          const docLinkHtml = 'Like what you see? Visit the ' +\n",
              "            '<a target=\"_blank\" href=https://colab.research.google.com/notebooks/data_table.ipynb>data table notebook</a>'\n",
              "            + ' to learn more about interactive tables.';\n",
              "          element.innerHTML = '';\n",
              "          dataTable['output_type'] = 'display_data';\n",
              "          await google.colab.output.renderOutput(dataTable, element);\n",
              "          const docLink = document.createElement('div');\n",
              "          docLink.innerHTML = docLinkHtml;\n",
              "          element.appendChild(docLink);\n",
              "        }\n",
              "      </script>\n",
              "    </div>\n",
              "  </div>\n",
              "  "
            ],
            "text/plain": [
              "   0      1     2     3     4    5   ...    8     9     10    11    12    13\n",
              "0   1  14.23  1.71  2.43  15.6  127  ...  0.28  2.29  5.64  1.04  3.92  1065\n",
              "1   1  13.20  1.78  2.14  11.2  100  ...  0.26  1.28  4.38  1.05  3.40  1050\n",
              "2   1  13.16  2.36  2.67  18.6  101  ...  0.30  2.81  5.68  1.03  3.17  1185\n",
              "3   1  14.37  1.95  2.50  16.8  113  ...  0.24  2.18  7.80  0.86  3.45  1480\n",
              "4   1  13.24  2.59  2.87  21.0  118  ...  0.39  1.82  4.32  1.04  2.93   735\n",
              "\n",
              "[5 rows x 14 columns]"
            ]
          },
          "metadata": {},
          "execution_count": 89
        }
      ]
    },
    {
      "cell_type": "code",
      "source": [
        "import matplotlib.pyplot as plt\n",
        "import seaborn as sns\n",
        "import pandas as pd\n",
        "import numpy as np\n",
        "from sklearn.preprocessing import StandardScaler\n",
        "from sklearn.model_selection import train_test_split\n",
        "from sklearn.linear_model import LogisticRegression\n",
        "from sklearn.ensemble import BaggingClassifier\n",
        "from sklearn.ensemble import RandomForestClassifier\n",
        "from sklearn.neighbors import KNeighborsClassifier\n",
        "from sklearn.multiclass import OneVsOneClassifier\n",
        "from sklearn.multiclass import OneVsRestClassifier"
      ],
      "metadata": {
        "id": "lC4YOsTHD17t"
      },
      "execution_count": 90,
      "outputs": []
    },
    {
      "cell_type": "code",
      "source": [
        "wn.columns = ['Class label', 'Alcohol', 'Malic acid', 'Ash', 'Alcalinity of ash', 'Magnesium', 'Total phenols', 'Flavanoids', 'Nonflavanoid phenols', 'Proanthocyanins', 'Color intensity', 'Hue', 'OD280/OD315 of diluted wines', 'Proline']\n",
        "wn.head(1)"
      ],
      "metadata": {
        "colab": {
          "base_uri": "https://localhost:8080/",
          "height": 159
        },
        "id": "Ed2Vzg9DGUis",
        "outputId": "b30624ba-4b3f-485b-b94e-146614a725ef"
      },
      "execution_count": 91,
      "outputs": [
        {
          "output_type": "execute_result",
          "data": {
            "text/html": [
              "\n",
              "  <div id=\"df-6724c36a-a6d8-456b-9217-3a83272c7807\">\n",
              "    <div class=\"colab-df-container\">\n",
              "      <div>\n",
              "<style scoped>\n",
              "    .dataframe tbody tr th:only-of-type {\n",
              "        vertical-align: middle;\n",
              "    }\n",
              "\n",
              "    .dataframe tbody tr th {\n",
              "        vertical-align: top;\n",
              "    }\n",
              "\n",
              "    .dataframe thead th {\n",
              "        text-align: right;\n",
              "    }\n",
              "</style>\n",
              "<table border=\"1\" class=\"dataframe\">\n",
              "  <thead>\n",
              "    <tr style=\"text-align: right;\">\n",
              "      <th></th>\n",
              "      <th>Class label</th>\n",
              "      <th>Alcohol</th>\n",
              "      <th>Malic acid</th>\n",
              "      <th>Ash</th>\n",
              "      <th>Alcalinity of ash</th>\n",
              "      <th>Magnesium</th>\n",
              "      <th>Total phenols</th>\n",
              "      <th>Flavanoids</th>\n",
              "      <th>Nonflavanoid phenols</th>\n",
              "      <th>Proanthocyanins</th>\n",
              "      <th>Color intensity</th>\n",
              "      <th>Hue</th>\n",
              "      <th>OD280/OD315 of diluted wines</th>\n",
              "      <th>Proline</th>\n",
              "    </tr>\n",
              "  </thead>\n",
              "  <tbody>\n",
              "    <tr>\n",
              "      <th>0</th>\n",
              "      <td>1</td>\n",
              "      <td>14.23</td>\n",
              "      <td>1.71</td>\n",
              "      <td>2.43</td>\n",
              "      <td>15.6</td>\n",
              "      <td>127</td>\n",
              "      <td>2.8</td>\n",
              "      <td>3.06</td>\n",
              "      <td>0.28</td>\n",
              "      <td>2.29</td>\n",
              "      <td>5.64</td>\n",
              "      <td>1.04</td>\n",
              "      <td>3.92</td>\n",
              "      <td>1065</td>\n",
              "    </tr>\n",
              "  </tbody>\n",
              "</table>\n",
              "</div>\n",
              "      <button class=\"colab-df-convert\" onclick=\"convertToInteractive('df-6724c36a-a6d8-456b-9217-3a83272c7807')\"\n",
              "              title=\"Convert this dataframe to an interactive table.\"\n",
              "              style=\"display:none;\">\n",
              "        \n",
              "  <svg xmlns=\"http://www.w3.org/2000/svg\" height=\"24px\"viewBox=\"0 0 24 24\"\n",
              "       width=\"24px\">\n",
              "    <path d=\"M0 0h24v24H0V0z\" fill=\"none\"/>\n",
              "    <path d=\"M18.56 5.44l.94 2.06.94-2.06 2.06-.94-2.06-.94-.94-2.06-.94 2.06-2.06.94zm-11 1L8.5 8.5l.94-2.06 2.06-.94-2.06-.94L8.5 2.5l-.94 2.06-2.06.94zm10 10l.94 2.06.94-2.06 2.06-.94-2.06-.94-.94-2.06-.94 2.06-2.06.94z\"/><path d=\"M17.41 7.96l-1.37-1.37c-.4-.4-.92-.59-1.43-.59-.52 0-1.04.2-1.43.59L10.3 9.45l-7.72 7.72c-.78.78-.78 2.05 0 2.83L4 21.41c.39.39.9.59 1.41.59.51 0 1.02-.2 1.41-.59l7.78-7.78 2.81-2.81c.8-.78.8-2.07 0-2.86zM5.41 20L4 18.59l7.72-7.72 1.47 1.35L5.41 20z\"/>\n",
              "  </svg>\n",
              "      </button>\n",
              "      \n",
              "  <style>\n",
              "    .colab-df-container {\n",
              "      display:flex;\n",
              "      flex-wrap:wrap;\n",
              "      gap: 12px;\n",
              "    }\n",
              "\n",
              "    .colab-df-convert {\n",
              "      background-color: #E8F0FE;\n",
              "      border: none;\n",
              "      border-radius: 50%;\n",
              "      cursor: pointer;\n",
              "      display: none;\n",
              "      fill: #1967D2;\n",
              "      height: 32px;\n",
              "      padding: 0 0 0 0;\n",
              "      width: 32px;\n",
              "    }\n",
              "\n",
              "    .colab-df-convert:hover {\n",
              "      background-color: #E2EBFA;\n",
              "      box-shadow: 0px 1px 2px rgba(60, 64, 67, 0.3), 0px 1px 3px 1px rgba(60, 64, 67, 0.15);\n",
              "      fill: #174EA6;\n",
              "    }\n",
              "\n",
              "    [theme=dark] .colab-df-convert {\n",
              "      background-color: #3B4455;\n",
              "      fill: #D2E3FC;\n",
              "    }\n",
              "\n",
              "    [theme=dark] .colab-df-convert:hover {\n",
              "      background-color: #434B5C;\n",
              "      box-shadow: 0px 1px 3px 1px rgba(0, 0, 0, 0.15);\n",
              "      filter: drop-shadow(0px 1px 2px rgba(0, 0, 0, 0.3));\n",
              "      fill: #FFFFFF;\n",
              "    }\n",
              "  </style>\n",
              "\n",
              "      <script>\n",
              "        const buttonEl =\n",
              "          document.querySelector('#df-6724c36a-a6d8-456b-9217-3a83272c7807 button.colab-df-convert');\n",
              "        buttonEl.style.display =\n",
              "          google.colab.kernel.accessAllowed ? 'block' : 'none';\n",
              "\n",
              "        async function convertToInteractive(key) {\n",
              "          const element = document.querySelector('#df-6724c36a-a6d8-456b-9217-3a83272c7807');\n",
              "          const dataTable =\n",
              "            await google.colab.kernel.invokeFunction('convertToInteractive',\n",
              "                                                     [key], {});\n",
              "          if (!dataTable) return;\n",
              "\n",
              "          const docLinkHtml = 'Like what you see? Visit the ' +\n",
              "            '<a target=\"_blank\" href=https://colab.research.google.com/notebooks/data_table.ipynb>data table notebook</a>'\n",
              "            + ' to learn more about interactive tables.';\n",
              "          element.innerHTML = '';\n",
              "          dataTable['output_type'] = 'display_data';\n",
              "          await google.colab.output.renderOutput(dataTable, element);\n",
              "          const docLink = document.createElement('div');\n",
              "          docLink.innerHTML = docLinkHtml;\n",
              "          element.appendChild(docLink);\n",
              "        }\n",
              "      </script>\n",
              "    </div>\n",
              "  </div>\n",
              "  "
            ],
            "text/plain": [
              "   Class label  Alcohol  ...  OD280/OD315 of diluted wines  Proline\n",
              "0            1    14.23  ...                          3.92     1065\n",
              "\n",
              "[1 rows x 14 columns]"
            ]
          },
          "metadata": {},
          "execution_count": 91
        }
      ]
    },
    {
      "cell_type": "markdown",
      "source": [
        "Informacion sobre la base de datos"
      ],
      "metadata": {
        "id": "VeEXnB2yG0pt"
      }
    },
    {
      "cell_type": "code",
      "source": [
        "wn.info()"
      ],
      "metadata": {
        "colab": {
          "base_uri": "https://localhost:8080/"
        },
        "id": "d_Qp7xGhGjc-",
        "outputId": "b4c4d383-ea3e-493a-9017-f74da8ba1f4b"
      },
      "execution_count": 92,
      "outputs": [
        {
          "output_type": "stream",
          "name": "stdout",
          "text": [
            "<class 'pandas.core.frame.DataFrame'>\n",
            "RangeIndex: 178 entries, 0 to 177\n",
            "Data columns (total 14 columns):\n",
            " #   Column                        Non-Null Count  Dtype  \n",
            "---  ------                        --------------  -----  \n",
            " 0   Class label                   178 non-null    int64  \n",
            " 1   Alcohol                       178 non-null    float64\n",
            " 2   Malic acid                    178 non-null    float64\n",
            " 3   Ash                           178 non-null    float64\n",
            " 4   Alcalinity of ash             178 non-null    float64\n",
            " 5   Magnesium                     178 non-null    int64  \n",
            " 6   Total phenols                 178 non-null    float64\n",
            " 7   Flavanoids                    178 non-null    float64\n",
            " 8   Nonflavanoid phenols          178 non-null    float64\n",
            " 9   Proanthocyanins               178 non-null    float64\n",
            " 10  Color intensity               178 non-null    float64\n",
            " 11  Hue                           178 non-null    float64\n",
            " 12  OD280/OD315 of diluted wines  178 non-null    float64\n",
            " 13  Proline                       178 non-null    int64  \n",
            "dtypes: float64(11), int64(3)\n",
            "memory usage: 19.6 KB\n"
          ]
        }
      ]
    },
    {
      "cell_type": "markdown",
      "source": [
        "Se verifican valores faltantes"
      ],
      "metadata": {
        "id": "oLAvXcPpG3Jg"
      }
    },
    {
      "cell_type": "code",
      "source": [
        "wn.isnull().sum()"
      ],
      "metadata": {
        "colab": {
          "base_uri": "https://localhost:8080/"
        },
        "id": "ipU1pLaxFgGX",
        "outputId": "7f354e63-774c-48f0-f9dc-f1490ec689dd"
      },
      "execution_count": 93,
      "outputs": [
        {
          "output_type": "execute_result",
          "data": {
            "text/plain": [
              "Class label                     0\n",
              "Alcohol                         0\n",
              "Malic acid                      0\n",
              "Ash                             0\n",
              "Alcalinity of ash               0\n",
              "Magnesium                       0\n",
              "Total phenols                   0\n",
              "Flavanoids                      0\n",
              "Nonflavanoid phenols            0\n",
              "Proanthocyanins                 0\n",
              "Color intensity                 0\n",
              "Hue                             0\n",
              "OD280/OD315 of diluted wines    0\n",
              "Proline                         0\n",
              "dtype: int64"
            ]
          },
          "metadata": {},
          "execution_count": 93
        }
      ]
    },
    {
      "cell_type": "markdown",
      "source": [
        "Se verifica el numero de categorias"
      ],
      "metadata": {
        "id": "JookqNZiG81C"
      }
    },
    {
      "cell_type": "code",
      "source": [
        "wn['Class label'].value_counts()"
      ],
      "metadata": {
        "colab": {
          "base_uri": "https://localhost:8080/"
        },
        "id": "deW3E5mnGfUl",
        "outputId": "1ef1305b-b9e5-4eef-be6f-077b81fc0ccb"
      },
      "execution_count": 94,
      "outputs": [
        {
          "output_type": "execute_result",
          "data": {
            "text/plain": [
              "2    71\n",
              "1    59\n",
              "3    48\n",
              "Name: Class label, dtype: int64"
            ]
          },
          "metadata": {},
          "execution_count": 94
        }
      ]
    },
    {
      "cell_type": "markdown",
      "source": [
        "Se crea matriz de caracteristicas y vector objetivo"
      ],
      "metadata": {
        "id": "Q4byyWo_HBxm"
      }
    },
    {
      "cell_type": "code",
      "source": [
        "X = wn.drop(columns = 'Class label')\n",
        "y = wn['Class label']"
      ],
      "metadata": {
        "id": "kfGIAtB3Grtt"
      },
      "execution_count": 95,
      "outputs": []
    },
    {
      "cell_type": "markdown",
      "source": [
        "Se divide la base de datos en entrenamiento y testeo"
      ],
      "metadata": {
        "id": "svLyTU_pHXdQ"
      }
    },
    {
      "cell_type": "code",
      "source": [
        "X_train, X_test, y_train, y_test = train_test_split(X, y, random_state = 3, stratify = y)"
      ],
      "metadata": {
        "id": "Qp-GUyf3HQqO"
      },
      "execution_count": 96,
      "outputs": []
    },
    {
      "cell_type": "markdown",
      "source": [
        "Se normalizan los datos de entrenamiento"
      ],
      "metadata": {
        "id": "2waC0jfeHsqr"
      }
    },
    {
      "cell_type": "code",
      "source": [
        "scaler = StandardScaler()\n",
        "scaler.fit(X_train)\n",
        "X_train = scaler.transform(X_train)\n",
        "X_test = scaler.transform(X_test)"
      ],
      "metadata": {
        "id": "gUSvT6IkHu2N"
      },
      "execution_count": 97,
      "outputs": []
    },
    {
      "cell_type": "markdown",
      "source": [
        "# Regresion logistica uno vs uno"
      ],
      "metadata": {
        "id": "JVY2XMKnJpUz"
      }
    },
    {
      "cell_type": "markdown",
      "source": [
        "Se llama a regresion logistica y clasificador 1 vs 1"
      ],
      "metadata": {
        "id": "sbPZPAhjI9ko"
      }
    },
    {
      "cell_type": "code",
      "source": [
        "log_reg = LogisticRegression()\n",
        "ovso = OneVsOneClassifier(log_reg)"
      ],
      "metadata": {
        "id": "gtTu1IeUIZs8"
      },
      "execution_count": 98,
      "outputs": []
    },
    {
      "cell_type": "markdown",
      "source": [
        "Se ajustan los datos de entrenamiento"
      ],
      "metadata": {
        "id": "-CRFTTmtJDvg"
      }
    },
    {
      "cell_type": "code",
      "source": [
        "ovso.fit(X_train, y_train)"
      ],
      "metadata": {
        "colab": {
          "base_uri": "https://localhost:8080/"
        },
        "id": "Le7Xtz_1Ig-R",
        "outputId": "ef61ade0-8b37-45ed-d436-d4e05ee6854b"
      },
      "execution_count": 99,
      "outputs": [
        {
          "output_type": "execute_result",
          "data": {
            "text/plain": [
              "OneVsOneClassifier(estimator=LogisticRegression())"
            ]
          },
          "metadata": {},
          "execution_count": 99
        }
      ]
    },
    {
      "cell_type": "markdown",
      "source": [
        "Coeficiente de determinacion de entrenamiento"
      ],
      "metadata": {
        "id": "3aHiv4-tJWsC"
      }
    },
    {
      "cell_type": "code",
      "source": [
        "ovso.score(X_train, y_train)"
      ],
      "metadata": {
        "colab": {
          "base_uri": "https://localhost:8080/"
        },
        "id": "GzI87yJ8IzDA",
        "outputId": "c5c4d9b1-0bf3-4b4b-d0c3-d855b65ad060"
      },
      "execution_count": 100,
      "outputs": [
        {
          "output_type": "execute_result",
          "data": {
            "text/plain": [
              "1.0"
            ]
          },
          "metadata": {},
          "execution_count": 100
        }
      ]
    },
    {
      "cell_type": "markdown",
      "source": [
        "Coeficiente de determinacion de testeo"
      ],
      "metadata": {
        "id": "Gs1cBD84Ja8_"
      }
    },
    {
      "cell_type": "code",
      "source": [
        "ovso.score(X_test, y_test)"
      ],
      "metadata": {
        "colab": {
          "base_uri": "https://localhost:8080/"
        },
        "id": "pJb724vYJS9N",
        "outputId": "2fd71b66-b4dd-4a4b-b6bf-6d1db8d6cfc6"
      },
      "execution_count": 101,
      "outputs": [
        {
          "output_type": "execute_result",
          "data": {
            "text/plain": [
              "1.0"
            ]
          },
          "metadata": {},
          "execution_count": 101
        }
      ]
    },
    {
      "cell_type": "markdown",
      "source": [
        "> Presicion del 100% en entrenamiento y testeo"
      ],
      "metadata": {
        "id": "V4vw5YnvJvuC"
      }
    },
    {
      "cell_type": "markdown",
      "source": [
        "# Regresion logistica uno vs resto"
      ],
      "metadata": {
        "id": "dbWoauWOJ78v"
      }
    },
    {
      "cell_type": "markdown",
      "source": [
        "Se llama a regresion logistica y clasificador 1 vs resto"
      ],
      "metadata": {
        "id": "sPAQ4B9cLZUQ"
      }
    },
    {
      "cell_type": "code",
      "source": [
        "log_reg = LogisticRegression()\n",
        "ovsr = OneVsRestClassifier(log_reg)"
      ],
      "metadata": {
        "id": "HcYkXRChLAX1"
      },
      "execution_count": 102,
      "outputs": []
    },
    {
      "cell_type": "code",
      "source": [
        "ovsr.fit(X_train, y_train)"
      ],
      "metadata": {
        "colab": {
          "base_uri": "https://localhost:8080/"
        },
        "id": "oqHLU-pOJVoG",
        "outputId": "50f314e0-b83c-4e7f-ed0e-89ec70f3d237"
      },
      "execution_count": 103,
      "outputs": [
        {
          "output_type": "execute_result",
          "data": {
            "text/plain": [
              "OneVsRestClassifier(estimator=LogisticRegression())"
            ]
          },
          "metadata": {},
          "execution_count": 103
        }
      ]
    },
    {
      "cell_type": "markdown",
      "source": [
        "Coeficiente de determinacion de entrenamiento"
      ],
      "metadata": {
        "id": "ymPsSQJ6LQc8"
      }
    },
    {
      "cell_type": "code",
      "source": [
        "ovsr.score(X_train, y_train)"
      ],
      "metadata": {
        "colab": {
          "base_uri": "https://localhost:8080/"
        },
        "id": "eE05QdPULJhj",
        "outputId": "e348c13d-30f2-45fd-ee9c-85bb5453cb24"
      },
      "execution_count": 104,
      "outputs": [
        {
          "output_type": "execute_result",
          "data": {
            "text/plain": [
              "1.0"
            ]
          },
          "metadata": {},
          "execution_count": 104
        }
      ]
    },
    {
      "cell_type": "markdown",
      "source": [
        "Coeficiente de determinacion de testeo"
      ],
      "metadata": {
        "id": "Gh2ZQFU7LTqh"
      }
    },
    {
      "cell_type": "code",
      "source": [
        "ovsr.score(X_test, y_test)"
      ],
      "metadata": {
        "colab": {
          "base_uri": "https://localhost:8080/"
        },
        "id": "LCLEYOc9LLSy",
        "outputId": "ce786879-f9c7-4953-f686-412f7638ea13"
      },
      "execution_count": 105,
      "outputs": [
        {
          "output_type": "execute_result",
          "data": {
            "text/plain": [
              "1.0"
            ]
          },
          "metadata": {},
          "execution_count": 105
        }
      ]
    },
    {
      "cell_type": "markdown",
      "source": [
        "> Presicion del 100% en entrenamiento y testeo"
      ],
      "metadata": {
        "id": "s1n9VXo4LtxB"
      }
    },
    {
      "cell_type": "markdown",
      "source": [
        "# Regresion logistica con regularizacion l1"
      ],
      "metadata": {
        "id": "KLyzbExvL5Sn"
      }
    },
    {
      "cell_type": "markdown",
      "source": [
        "Se llama a regresion logistica y regularizacion l1"
      ],
      "metadata": {
        "id": "PX6ttX36MgAC"
      }
    },
    {
      "cell_type": "code",
      "source": [
        "log_reg = LogisticRegression(penalty = 'l1', solver = 'liblinear')\n",
        "log_reg.fit(X_train, y_train)"
      ],
      "metadata": {
        "colab": {
          "base_uri": "https://localhost:8080/"
        },
        "id": "lEAlbKYELN6t",
        "outputId": "ad1c72c0-cbe7-4286-a079-02111ad5cff6"
      },
      "execution_count": 106,
      "outputs": [
        {
          "output_type": "execute_result",
          "data": {
            "text/plain": [
              "LogisticRegression(penalty='l1', solver='liblinear')"
            ]
          },
          "metadata": {},
          "execution_count": 106
        }
      ]
    },
    {
      "cell_type": "markdown",
      "source": [
        "Coeficiente de determinacion de entrenamiento"
      ],
      "metadata": {
        "id": "cpLr9IdhMmHu"
      }
    },
    {
      "cell_type": "code",
      "source": [
        "log_reg.score(X_train, y_train)"
      ],
      "metadata": {
        "colab": {
          "base_uri": "https://localhost:8080/"
        },
        "id": "-fLIa5XqMXlx",
        "outputId": "dfb73675-a0b2-4a0f-b80a-cf31de9e33d7"
      },
      "execution_count": 107,
      "outputs": [
        {
          "output_type": "execute_result",
          "data": {
            "text/plain": [
              "1.0"
            ]
          },
          "metadata": {},
          "execution_count": 107
        }
      ]
    },
    {
      "cell_type": "markdown",
      "source": [
        "Coeficiente de determinacion de testeo"
      ],
      "metadata": {
        "id": "w3brt-AaMn9a"
      }
    },
    {
      "cell_type": "code",
      "source": [
        "log_reg.score(X_test, y_test)"
      ],
      "metadata": {
        "colab": {
          "base_uri": "https://localhost:8080/"
        },
        "id": "6MaRrF_aMUNs",
        "outputId": "05648465-dc31-4de0-acbe-60c29d0a6f66"
      },
      "execution_count": 108,
      "outputs": [
        {
          "output_type": "execute_result",
          "data": {
            "text/plain": [
              "1.0"
            ]
          },
          "metadata": {},
          "execution_count": 108
        }
      ]
    },
    {
      "cell_type": "markdown",
      "source": [
        "> Presicion del 100% en entrenamiento y testeo"
      ],
      "metadata": {
        "id": "RrPL_K4fMttb"
      }
    },
    {
      "cell_type": "markdown",
      "source": [
        "# Regresion logistica con regularizacion l2"
      ],
      "metadata": {
        "id": "l_oqSQaZMw5a"
      }
    },
    {
      "cell_type": "markdown",
      "source": [
        "Se llama a regresion logistica y regularizacion l2"
      ],
      "metadata": {
        "id": "ERFlhTVHNXPB"
      }
    },
    {
      "cell_type": "code",
      "source": [
        "log_reg = LogisticRegression(penalty = 'l2')\n",
        "log_reg.fit(X_train, y_train)"
      ],
      "metadata": {
        "colab": {
          "base_uri": "https://localhost:8080/"
        },
        "id": "mI__RWgeMdXU",
        "outputId": "1c9006ef-bfba-413c-d473-40dc83a3fd07"
      },
      "execution_count": 109,
      "outputs": [
        {
          "output_type": "execute_result",
          "data": {
            "text/plain": [
              "LogisticRegression()"
            ]
          },
          "metadata": {},
          "execution_count": 109
        }
      ]
    },
    {
      "cell_type": "markdown",
      "source": [
        "Coeficiente de determinacion de entrenamiento"
      ],
      "metadata": {
        "id": "3SM2pTIgM-W3"
      }
    },
    {
      "cell_type": "code",
      "source": [
        "log_reg.score(X_train, y_train)"
      ],
      "metadata": {
        "colab": {
          "base_uri": "https://localhost:8080/"
        },
        "outputId": "d87771d1-6917-415d-c543-7bc288e33a49",
        "id": "edxcozJQM-W3"
      },
      "execution_count": 110,
      "outputs": [
        {
          "output_type": "execute_result",
          "data": {
            "text/plain": [
              "1.0"
            ]
          },
          "metadata": {},
          "execution_count": 110
        }
      ]
    },
    {
      "cell_type": "markdown",
      "source": [
        "Coeficiente de determinacion de testeo"
      ],
      "metadata": {
        "id": "721rll2FM-W4"
      }
    },
    {
      "cell_type": "code",
      "source": [
        "log_reg.score(X_test, y_test)"
      ],
      "metadata": {
        "colab": {
          "base_uri": "https://localhost:8080/"
        },
        "outputId": "fc0b19e1-fd2a-4940-d08d-3eb749b1dafb",
        "id": "TuEHyljnM-W4"
      },
      "execution_count": 111,
      "outputs": [
        {
          "output_type": "execute_result",
          "data": {
            "text/plain": [
              "1.0"
            ]
          },
          "metadata": {},
          "execution_count": 111
        }
      ]
    },
    {
      "cell_type": "markdown",
      "source": [
        "> Presicion del 100% en entrenamiento y testeo"
      ],
      "metadata": {
        "id": "IoiH-XapNDkB"
      }
    },
    {
      "cell_type": "markdown",
      "source": [
        "# KNN "
      ],
      "metadata": {
        "id": "KF2SRkBZNFt2"
      }
    },
    {
      "cell_type": "markdown",
      "source": [
        "Se llama a clasificador knn"
      ],
      "metadata": {
        "id": "p_wyc-MCNYwZ"
      }
    },
    {
      "cell_type": "code",
      "source": [
        "knn = KNeighborsClassifier()\n",
        "knn.fit(X_train, y_train)"
      ],
      "metadata": {
        "colab": {
          "base_uri": "https://localhost:8080/"
        },
        "id": "RrGM6oUGNIel",
        "outputId": "4c45d901-de05-47c6-8d94-bf1ab81ef2ff"
      },
      "execution_count": 112,
      "outputs": [
        {
          "output_type": "execute_result",
          "data": {
            "text/plain": [
              "KNeighborsClassifier()"
            ]
          },
          "metadata": {},
          "execution_count": 112
        }
      ]
    },
    {
      "cell_type": "markdown",
      "source": [
        "Coeficiente de determinacion de entrenamiento"
      ],
      "metadata": {
        "id": "iJXGomKsNiyL"
      }
    },
    {
      "cell_type": "code",
      "source": [
        "knn.score(X_train, y_train)"
      ],
      "metadata": {
        "colab": {
          "base_uri": "https://localhost:8080/"
        },
        "outputId": "2367501a-7c37-4844-fdc7-c19bdef2f80b",
        "id": "sr8ZRoWdNiyM"
      },
      "execution_count": 113,
      "outputs": [
        {
          "output_type": "execute_result",
          "data": {
            "text/plain": [
              "0.9699248120300752"
            ]
          },
          "metadata": {},
          "execution_count": 113
        }
      ]
    },
    {
      "cell_type": "markdown",
      "source": [
        "Coeficiente de determinacion de testeo"
      ],
      "metadata": {
        "id": "aJkRuShnNiyM"
      }
    },
    {
      "cell_type": "code",
      "source": [
        "knn.score(X_test, y_test)"
      ],
      "metadata": {
        "colab": {
          "base_uri": "https://localhost:8080/"
        },
        "outputId": "3b511889-5d1d-4a17-fe33-93128c27f86c",
        "id": "GSehaukpNiyM"
      },
      "execution_count": 114,
      "outputs": [
        {
          "output_type": "execute_result",
          "data": {
            "text/plain": [
              "0.9777777777777777"
            ]
          },
          "metadata": {},
          "execution_count": 114
        }
      ]
    },
    {
      "cell_type": "markdown",
      "source": [
        "> Presicion del 97% en entrenamiento y 98% en testeo"
      ],
      "metadata": {
        "id": "WuAyTNVVNiyM"
      }
    },
    {
      "cell_type": "markdown",
      "source": [
        "# Bagged tree"
      ],
      "metadata": {
        "id": "A8JFKX42N2lC"
      }
    },
    {
      "cell_type": "markdown",
      "source": [
        "Se llama a clasificador de arbol embolsado"
      ],
      "metadata": {
        "id": "IxHR6pkIOe2B"
      }
    },
    {
      "cell_type": "code",
      "source": [
        "bt =BaggingClassifier()\n",
        "bt.fit(X_train, y_train)"
      ],
      "metadata": {
        "colab": {
          "base_uri": "https://localhost:8080/"
        },
        "id": "kG5UegBwNs9S",
        "outputId": "8aa726c3-a459-406f-f81e-110fa4ef934e"
      },
      "execution_count": 115,
      "outputs": [
        {
          "output_type": "execute_result",
          "data": {
            "text/plain": [
              "BaggingClassifier()"
            ]
          },
          "metadata": {},
          "execution_count": 115
        }
      ]
    },
    {
      "cell_type": "markdown",
      "source": [
        "Coeficiente de determinacion de entrenamiento"
      ],
      "metadata": {
        "id": "wuEZ1IOKOQW0"
      }
    },
    {
      "cell_type": "code",
      "source": [
        "bt.score(X_train, y_train)"
      ],
      "metadata": {
        "colab": {
          "base_uri": "https://localhost:8080/"
        },
        "outputId": "6245e760-267e-42b9-a147-7111285b78df",
        "id": "t_SxMVSBOQW0"
      },
      "execution_count": 116,
      "outputs": [
        {
          "output_type": "execute_result",
          "data": {
            "text/plain": [
              "1.0"
            ]
          },
          "metadata": {},
          "execution_count": 116
        }
      ]
    },
    {
      "cell_type": "markdown",
      "source": [
        "Coeficiente de determinacion de testeo"
      ],
      "metadata": {
        "id": "_v5eunboOQW1"
      }
    },
    {
      "cell_type": "code",
      "source": [
        "bt.score(X_test, y_test)"
      ],
      "metadata": {
        "colab": {
          "base_uri": "https://localhost:8080/"
        },
        "outputId": "1f3dca39-83fe-478a-de42-a953f1c7c64a",
        "id": "bDO_AZvBOQW1"
      },
      "execution_count": 117,
      "outputs": [
        {
          "output_type": "execute_result",
          "data": {
            "text/plain": [
              "0.9333333333333333"
            ]
          },
          "metadata": {},
          "execution_count": 117
        }
      ]
    },
    {
      "cell_type": "markdown",
      "source": [
        "> Presicion del 100% en entrenamiento y 96% en testeo"
      ],
      "metadata": {
        "id": "yh-vttCjOQW1"
      }
    },
    {
      "cell_type": "markdown",
      "source": [
        "# Random forest"
      ],
      "metadata": {
        "id": "acQiv6JhOo2P"
      }
    },
    {
      "cell_type": "markdown",
      "source": [
        "Se llama a clasificador de arbol embolsado"
      ],
      "metadata": {
        "id": "zs5DLz5TOx7n"
      }
    },
    {
      "cell_type": "code",
      "source": [
        "rf =RandomForestClassifier()\n",
        "rf.fit(X_train, y_train)"
      ],
      "metadata": {
        "colab": {
          "base_uri": "https://localhost:8080/"
        },
        "outputId": "9a6f6207-b732-4e6a-a455-320cedead44a",
        "id": "5XEl8TBLOx7n"
      },
      "execution_count": 118,
      "outputs": [
        {
          "output_type": "execute_result",
          "data": {
            "text/plain": [
              "RandomForestClassifier()"
            ]
          },
          "metadata": {},
          "execution_count": 118
        }
      ]
    },
    {
      "cell_type": "markdown",
      "source": [
        "Coeficiente de determinacion de entrenamiento"
      ],
      "metadata": {
        "id": "XNEchMVVOtdr"
      }
    },
    {
      "cell_type": "code",
      "source": [
        "rf.score(X_train, y_train)"
      ],
      "metadata": {
        "colab": {
          "base_uri": "https://localhost:8080/"
        },
        "outputId": "31e1ad10-ce06-46f1-ad4f-c45af31b30f5",
        "id": "BSxU6jSaOtds"
      },
      "execution_count": 119,
      "outputs": [
        {
          "output_type": "execute_result",
          "data": {
            "text/plain": [
              "1.0"
            ]
          },
          "metadata": {},
          "execution_count": 119
        }
      ]
    },
    {
      "cell_type": "markdown",
      "source": [
        "Coeficiente de determinacion de testeo"
      ],
      "metadata": {
        "id": "-zZNKOCKOtds"
      }
    },
    {
      "cell_type": "code",
      "source": [
        "rf.score(X_test, y_test)"
      ],
      "metadata": {
        "colab": {
          "base_uri": "https://localhost:8080/"
        },
        "outputId": "8e385cfb-abad-49bd-95af-6686aea85db8",
        "id": "2mAFrstnOtds"
      },
      "execution_count": 120,
      "outputs": [
        {
          "output_type": "execute_result",
          "data": {
            "text/plain": [
              "0.9777777777777777"
            ]
          },
          "metadata": {},
          "execution_count": 120
        }
      ]
    },
    {
      "cell_type": "markdown",
      "source": [
        "> Presicion del 97% en entrenamiento y 98% testeo"
      ],
      "metadata": {
        "id": "fdJYM-MFOtds"
      }
    },
    {
      "cell_type": "markdown",
      "source": [
        "# Preguntas"
      ],
      "metadata": {
        "id": "fc4BFFPBO-61"
      }
    },
    {
      "cell_type": "markdown",
      "source": [
        "¿Qué modelo funcionó mejor?"
      ],
      "metadata": {
        "id": "qYmcnqaPPBKP"
      }
    },
    {
      "cell_type": "markdown",
      "source": [
        "Los modelos de regresion logistica tuvieron el mejor rendimiento ya que tuvieron una precision del 100% tanto en entrenamiento como en testeo"
      ],
      "metadata": {
        "id": "edjXF-FEPFvP"
      }
    },
    {
      "cell_type": "markdown",
      "source": [
        "¿Cuáles son las características más importantes de tus modelos?"
      ],
      "metadata": {
        "id": "bAhXST12PENz"
      }
    },
    {
      "cell_type": "code",
      "source": [
        "log_reg.coef_"
      ],
      "metadata": {
        "colab": {
          "base_uri": "https://localhost:8080/"
        },
        "id": "lHibUf1vPstd",
        "outputId": "58ee5ce6-b0df-4de4-b343-605bc6f11e7f"
      },
      "execution_count": 121,
      "outputs": [
        {
          "output_type": "execute_result",
          "data": {
            "text/plain": [
              "array([[ 0.74563286,  0.05512213,  0.52505853, -0.75991592,  0.11070019,\n",
              "         0.22421155,  0.49968005, -0.15571456,  0.21523296,  0.17374224,\n",
              "         0.031697  ,  0.669151  ,  1.03087631],\n",
              "       [-0.82785779, -0.33307439, -0.86256153,  0.57506337, -0.21161935,\n",
              "         0.02350838,  0.42763191,  0.24805613,  0.10538076, -0.97859604,\n",
              "         0.68923679,  0.07998533, -0.95222042],\n",
              "       [ 0.08222492,  0.27795226,  0.33750299,  0.18485255,  0.10091916,\n",
              "        -0.24771993, -0.92731196, -0.09234158, -0.32061372,  0.8048538 ,\n",
              "        -0.72093379, -0.74913633, -0.07865589]])"
            ]
          },
          "metadata": {},
          "execution_count": 121
        }
      ]
    },
    {
      "cell_type": "markdown",
      "source": [
        "Importancia de caracteristicas de regresion logistica para la clase 1"
      ],
      "metadata": {
        "id": "jX5HrvmrSUNY"
      }
    },
    {
      "cell_type": "code",
      "source": [
        "coef_wn = pd.DataFrame(zip(X.columns, log_reg.coef_[0]), columns = ['Feature', 'Coef'])\n",
        "coef_wn.sort_values(by = 'Coef', inplace = True)\n",
        "plt.figure(figsize = (12, 5))\n",
        "plt.barh(coef_wn['Feature'], coef_wn['Coef'])\n",
        "plt.title('Caracteristicas importantes para Clase 1');"
      ],
      "metadata": {
        "colab": {
          "base_uri": "https://localhost:8080/",
          "height": 336
        },
        "id": "a5L_TnxTP7in",
        "outputId": "0fcce1ac-6265-4cc0-f7ab-cef42fe442c5"
      },
      "execution_count": 125,
      "outputs": [
        {
          "output_type": "display_data",
          "data": {
            "image/png": "[encoded data removed]",
            "text/plain": [
              "<Figure size 864x360 with 1 Axes>"
            ]
          },
          "metadata": {
            "needs_background": "light"
          }
        }
      ]
    },
    {
      "cell_type": "markdown",
      "source": [
        "Importancia de caracteristicas de regresion logistica para la clase 2"
      ],
      "metadata": {
        "id": "u64g6FdcSdn3"
      }
    },
    {
      "cell_type": "code",
      "source": [
        "coef_wn = pd.DataFrame(zip(X.columns, log_reg.coef_[1]), columns = ['Feature', 'Coef'])\n",
        "coef_wn.sort_values(by = 'Coef', inplace = True)\n",
        "plt.figure(figsize = (12, 5))\n",
        "plt.barh(coef_wn['Feature'], coef_wn['Coef'])\n",
        "plt.title('Caracteristicas importantes para Clase 2');"
      ],
      "metadata": {
        "colab": {
          "base_uri": "https://localhost:8080/",
          "height": 336
        },
        "id": "VsebcblBR4tU",
        "outputId": "fb8e9fbc-362c-42e8-ca1f-cf71bdbf5e40"
      },
      "execution_count": 126,
      "outputs": [
        {
          "output_type": "display_data",
          "data": {
            "image/png": "[encoded data removed]",
            "text/plain": [
              "<Figure size 864x360 with 1 Axes>"
            ]
          },
          "metadata": {
            "needs_background": "light"
          }
        }
      ]
    },
    {
      "cell_type": "markdown",
      "source": [
        "Importancia de caracteristicas de regresion logistica para la clase 3"
      ],
      "metadata": {
        "id": "7xFkQjRUSem0"
      }
    },
    {
      "cell_type": "code",
      "source": [
        "coef_wn = pd.DataFrame(zip(X.columns, log_reg.coef_[2]), columns = ['Feature', 'Coef'])\n",
        "coef_wn.sort_values(by = 'Coef', inplace = True)\n",
        "plt.figure(figsize = (12, 5))\n",
        "plt.barh(coef_wn['Feature'], coef_wn['Coef'])\n",
        "plt.title('Caracteristicas importantes para Clase 3');"
      ],
      "metadata": {
        "colab": {
          "base_uri": "https://localhost:8080/",
          "height": 336
        },
        "id": "MSvEPsVDR8jC",
        "outputId": "4f221f56-7211-4235-b9e3-61da62fbf051"
      },
      "execution_count": 127,
      "outputs": [
        {
          "output_type": "display_data",
          "data": {
            "image/png": "[encoded data removed]",
            "text/plain": [
              "<Figure size 864x360 with 1 Axes>"
            ]
          },
          "metadata": {
            "needs_background": "light"
          }
        }
      ]
    }
  ]
}